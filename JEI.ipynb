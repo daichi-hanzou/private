{
 "cells": [
  {
   "cell_type": "code",
   "execution_count": 82,
   "metadata": {
    "collapsed": true
   },
   "outputs": [],
   "source": [
    "import pandas as pd\n",
    "import pathlib\n",
    "import os\n",
    "import configparser\n",
    "import string"
   ]
  },
  {
   "cell_type": "code",
   "execution_count": 26,
   "metadata": {
    "collapsed": false
   },
   "outputs": [],
   "source": [
    "# configファイルの読み込み\n",
    "config=configparser.ConfigParser()\n",
    "config.read('config.ini')\n",
    "config_path=config[\"default\"][\"path\"]"
   ]
  },
  {
   "cell_type": "code",
   "execution_count": 33,
   "metadata": {
    "collapsed": false
   },
   "outputs": [
    {
     "name": "stdout",
     "output_type": "stream",
     "text": [
      "/Users/hattoridaichi/R_studio/Practice/JRE/2014Q2BSPL.xlsx\n"
     ]
    }
   ],
   "source": [
    "p_file = config_path/pathlib.Path(\"2014Q2BSPL.xlsx\")\n",
    "print(p_file)\n",
    "df_test=pd.read_excel(p_file, skip=6)"
   ]
  },
  {
   "cell_type": "code",
   "execution_count": 109,
   "metadata": {
    "collapsed": false
   },
   "outputs": [],
   "source": [
    "def test_func(Q, types, year_list):\n",
    "    list_df=[]\n",
    "    for year in year_list:\n",
    "        path=config_path/pathlib.Path(str(year)+str(Q)+str(types)+\".xlsx\")\n",
    "        df_tmp=pd.read_excel(path, header=[5], usecols=[0, 1, 2, 3, 4, 5, 6])\n",
    "        df_tmp=pd.melt(df_tmp, id_vars=\"company\", var_name='companys', value_name='amount').rename(columns={\"company\":\"account\"})\n",
    "        df_tmp[\"account\"]=df_tmp[\"account\"].str.strip()\n",
    "        df_tmp[\"companys\"]=df_tmp[\"companys\"].str.strip()\n",
    "        df_tmp[\"year\"]=year\n",
    "        df_tmp[\"Q\"]=Q\n",
    "        list_df.append(df_tmp)\n",
    "    df_tmp=pd.concat(list_df)   \n",
    "    return(df_tmp)"
   ]
  },
  {
   "cell_type": "code",
   "execution_count": 110,
   "metadata": {
    "collapsed": false
   },
   "outputs": [
    {
     "data": {
      "text/html": [
       "<div>\n",
       "<table border=\"1\" class=\"dataframe\">\n",
       "  <thead>\n",
       "    <tr style=\"text-align: right;\">\n",
       "      <th></th>\n",
       "      <th>account</th>\n",
       "      <th>companys</th>\n",
       "      <th>amount</th>\n",
       "      <th>year</th>\n",
       "      <th>Q</th>\n",
       "    </tr>\n",
       "  </thead>\n",
       "  <tbody>\n",
       "    <tr>\n",
       "      <th>0</th>\n",
       "      <td>AA</td>\n",
       "      <td>a</td>\n",
       "      <td>0</td>\n",
       "      <td>2014</td>\n",
       "      <td>Q2</td>\n",
       "    </tr>\n",
       "    <tr>\n",
       "      <th>1</th>\n",
       "      <td>BB</td>\n",
       "      <td>a</td>\n",
       "      <td>16</td>\n",
       "      <td>2014</td>\n",
       "      <td>Q2</td>\n",
       "    </tr>\n",
       "    <tr>\n",
       "      <th>2</th>\n",
       "      <td>CC</td>\n",
       "      <td>a</td>\n",
       "      <td>77</td>\n",
       "      <td>2014</td>\n",
       "      <td>Q2</td>\n",
       "    </tr>\n",
       "    <tr>\n",
       "      <th>3</th>\n",
       "      <td>DD</td>\n",
       "      <td>a</td>\n",
       "      <td>89</td>\n",
       "      <td>2014</td>\n",
       "      <td>Q2</td>\n",
       "    </tr>\n",
       "    <tr>\n",
       "      <th>4</th>\n",
       "      <td>VV</td>\n",
       "      <td>a</td>\n",
       "      <td>10</td>\n",
       "      <td>2014</td>\n",
       "      <td>Q2</td>\n",
       "    </tr>\n",
       "  </tbody>\n",
       "</table>\n",
       "</div>"
      ],
      "text/plain": [
       "  account companys  amount  year   Q\n",
       "0      AA        a       0  2014  Q2\n",
       "1      BB        a      16  2014  Q2\n",
       "2      CC        a      77  2014  Q2\n",
       "3      DD        a      89  2014  Q2\n",
       "4      VV        a      10  2014  Q2"
      ]
     },
     "execution_count": 110,
     "metadata": {},
     "output_type": "execute_result"
    }
   ],
   "source": [
    "year_list=[\"2014\", \"2015\"]\n",
    "df_test=test_func(\"Q2\", \"BSPL\", year_list)\n",
    "df_test.head()"
   ]
  },
  {
   "cell_type": "code",
   "execution_count": null,
   "metadata": {
    "collapsed": false
   },
   "outputs": [],
   "source": []
  },
  {
   "cell_type": "code",
   "execution_count": null,
   "metadata": {
    "collapsed": true
   },
   "outputs": [],
   "source": []
  }
 ],
 "metadata": {
  "kernelspec": {
   "display_name": "Python 3",
   "language": "python",
   "name": "python3"
  },
  "language_info": {
   "codemirror_mode": {
    "name": "ipython",
    "version": 3
   },
   "file_extension": ".py",
   "mimetype": "text/x-python",
   "name": "python",
   "nbconvert_exporter": "python",
   "pygments_lexer": "ipython3",
   "version": "3.6.0"
  }
 },
 "nbformat": 4,
 "nbformat_minor": 2
}
